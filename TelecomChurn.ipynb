{
 "cells": [
  {
   "cell_type": "markdown",
   "metadata": {},
   "source": [
    "### <i>Filipe de Paula Oliveira</i>"
   ]
  },
  {
   "cell_type": "markdown",
   "metadata": {},
   "source": [
    "# <font color = blue>Prevendo Customer Churn em Operadoras de Telecom</font>"
   ]
  },
  {
   "cell_type": "markdown",
   "metadata": {},
   "source": [
    "#### Projeto Prático 04 da Formação Cientista de Dados da Data Science Academy"
   ]
  },
  {
   "cell_type": "markdown",
   "metadata": {},
   "source": [
    "Customer Churn (ou Rotatividade de Clientes, em uma tradução livre) refere-se a uma decisão tomada pelo cliente sobre o término do relacionamento comercial. Refere-se também à perda de clientes.  \n",
    "De acordo com a regra de lucratividade do cliente 80/20, 20% dos clientes estão gerando 80% da receita. Portanto, é muito importante prever os usuários que provavelmente abandonarão o relacionamento comercial e os fatores que afetam as decisões do cliente.  \n",
    "\n",
    "<b>Problema:  Prever o Customer Churn em uma Operadora de Telecom.</b>\n",
    "\n",
    "No dataset, a coluna 'churn' pode assumir os valores 'yes', quando o cliente terminou o relacionamento comercial, e 'no', quando o manteve."
   ]
  },
  {
   "cell_type": "markdown",
   "metadata": {},
   "source": [
    "# 1 Importação de pacotes"
   ]
  },
  {
   "cell_type": "markdown",
   "metadata": {},
   "source": [
    "## 1.1 Leitura e Manipulação de Dados"
   ]
  },
  {
   "cell_type": "code",
   "execution_count": 1,
   "metadata": {},
   "outputs": [],
   "source": [
    "import numpy as np\n",
    "import pandas as pd"
   ]
  },
  {
   "cell_type": "markdown",
   "metadata": {},
   "source": [
    "## 1.2 Análise Gráfica"
   ]
  },
  {
   "cell_type": "code",
   "execution_count": 2,
   "metadata": {},
   "outputs": [],
   "source": [
    "import matplotlib.pyplot as plt\n",
    "import seaborn as sns\n",
    "import squarify\n",
    "from matplotlib.colors import Normalize\n",
    "from matplotlib.cm import Blues"
   ]
  },
  {
   "cell_type": "markdown",
   "metadata": {},
   "source": [
    "## 1.3 Pré Processamento"
   ]
  },
  {
   "cell_type": "code",
   "execution_count": 3,
   "metadata": {},
   "outputs": [],
   "source": [
    "from sklearn.preprocessing import LabelEncoder\n",
    "from sklearn.preprocessing import StandardScaler\n",
    "from imblearn.over_sampling import SMOTE\n",
    "from sklearn.model_selection import train_test_split"
   ]
  },
  {
   "cell_type": "markdown",
   "metadata": {},
   "source": [
    "## 1.4 Machine Learning"
   ]
  },
  {
   "cell_type": "code",
   "execution_count": 4,
   "metadata": {},
   "outputs": [],
   "source": [
    "from sklearn.linear_model import LogisticRegression\n",
    "from sklearn.model_selection import GridSearchCV\n",
    "from sklearn.model_selection import RandomizedSearchCV\n",
    "from imblearn.pipeline import Pipeline"
   ]
  },
  {
   "cell_type": "markdown",
   "metadata": {},
   "source": [
    "## 1.5 Métricas"
   ]
  },
  {
   "cell_type": "code",
   "execution_count": 5,
   "metadata": {},
   "outputs": [],
   "source": [
    "from sklearn.metrics import confusion_matrix\n",
    "from sklearn.metrics import classification_report\n",
    "from sklearn.metrics import accuracy_score\n",
    "from sklearn.metrics import roc_auc_score\n",
    "from sklearn.metrics import plot_roc_curve"
   ]
  },
  {
   "cell_type": "markdown",
   "metadata": {},
   "source": [
    "# 2 Leitura dos datasets"
   ]
  },
  {
   "cell_type": "code",
   "execution_count": 6,
   "metadata": {},
   "outputs": [],
   "source": [
    "df_orig_train = pd.read_csv('projeto4_telecom_treino.csv')\n",
    "df_orig_test = pd.read_csv('projeto4_telecom_teste.csv')"
   ]
  },
  {
   "cell_type": "markdown",
   "metadata": {},
   "source": [
    "# 3 Análise Exploratória"
   ]
  },
  {
   "cell_type": "markdown",
   "metadata": {},
   "source": [
    "## 3.1 Análise Descritiva"
   ]
  },
  {
   "cell_type": "code",
   "execution_count": 7,
   "metadata": {
    "scrolled": false
   },
   "outputs": [
    {
     "data": {
      "text/html": [
       "<div>\n",
       "<style scoped>\n",
       "    .dataframe tbody tr th:only-of-type {\n",
       "        vertical-align: middle;\n",
       "    }\n",
       "\n",
       "    .dataframe tbody tr th {\n",
       "        vertical-align: top;\n",
       "    }\n",
       "\n",
       "    .dataframe thead th {\n",
       "        text-align: right;\n",
       "    }\n",
       "</style>\n",
       "<table border=\"1\" class=\"dataframe\">\n",
       "  <thead>\n",
       "    <tr style=\"text-align: right;\">\n",
       "      <th></th>\n",
       "      <th>Unnamed: 0</th>\n",
       "      <th>state</th>\n",
       "      <th>account_length</th>\n",
       "      <th>area_code</th>\n",
       "      <th>international_plan</th>\n",
       "      <th>voice_mail_plan</th>\n",
       "      <th>number_vmail_messages</th>\n",
       "      <th>total_day_minutes</th>\n",
       "      <th>total_day_calls</th>\n",
       "      <th>total_day_charge</th>\n",
       "      <th>...</th>\n",
       "      <th>total_eve_calls</th>\n",
       "      <th>total_eve_charge</th>\n",
       "      <th>total_night_minutes</th>\n",
       "      <th>total_night_calls</th>\n",
       "      <th>total_night_charge</th>\n",
       "      <th>total_intl_minutes</th>\n",
       "      <th>total_intl_calls</th>\n",
       "      <th>total_intl_charge</th>\n",
       "      <th>number_customer_service_calls</th>\n",
       "      <th>churn</th>\n",
       "    </tr>\n",
       "  </thead>\n",
       "  <tbody>\n",
       "    <tr>\n",
       "      <th>0</th>\n",
       "      <td>1</td>\n",
       "      <td>KS</td>\n",
       "      <td>128</td>\n",
       "      <td>area_code_415</td>\n",
       "      <td>no</td>\n",
       "      <td>yes</td>\n",
       "      <td>25</td>\n",
       "      <td>265.1</td>\n",
       "      <td>110</td>\n",
       "      <td>45.07</td>\n",
       "      <td>...</td>\n",
       "      <td>99</td>\n",
       "      <td>16.78</td>\n",
       "      <td>244.7</td>\n",
       "      <td>91</td>\n",
       "      <td>11.01</td>\n",
       "      <td>10.0</td>\n",
       "      <td>3</td>\n",
       "      <td>2.70</td>\n",
       "      <td>1</td>\n",
       "      <td>no</td>\n",
       "    </tr>\n",
       "    <tr>\n",
       "      <th>1</th>\n",
       "      <td>2</td>\n",
       "      <td>OH</td>\n",
       "      <td>107</td>\n",
       "      <td>area_code_415</td>\n",
       "      <td>no</td>\n",
       "      <td>yes</td>\n",
       "      <td>26</td>\n",
       "      <td>161.6</td>\n",
       "      <td>123</td>\n",
       "      <td>27.47</td>\n",
       "      <td>...</td>\n",
       "      <td>103</td>\n",
       "      <td>16.62</td>\n",
       "      <td>254.4</td>\n",
       "      <td>103</td>\n",
       "      <td>11.45</td>\n",
       "      <td>13.7</td>\n",
       "      <td>3</td>\n",
       "      <td>3.70</td>\n",
       "      <td>1</td>\n",
       "      <td>no</td>\n",
       "    </tr>\n",
       "    <tr>\n",
       "      <th>2</th>\n",
       "      <td>3</td>\n",
       "      <td>NJ</td>\n",
       "      <td>137</td>\n",
       "      <td>area_code_415</td>\n",
       "      <td>no</td>\n",
       "      <td>no</td>\n",
       "      <td>0</td>\n",
       "      <td>243.4</td>\n",
       "      <td>114</td>\n",
       "      <td>41.38</td>\n",
       "      <td>...</td>\n",
       "      <td>110</td>\n",
       "      <td>10.30</td>\n",
       "      <td>162.6</td>\n",
       "      <td>104</td>\n",
       "      <td>7.32</td>\n",
       "      <td>12.2</td>\n",
       "      <td>5</td>\n",
       "      <td>3.29</td>\n",
       "      <td>0</td>\n",
       "      <td>no</td>\n",
       "    </tr>\n",
       "    <tr>\n",
       "      <th>3</th>\n",
       "      <td>4</td>\n",
       "      <td>OH</td>\n",
       "      <td>84</td>\n",
       "      <td>area_code_408</td>\n",
       "      <td>yes</td>\n",
       "      <td>no</td>\n",
       "      <td>0</td>\n",
       "      <td>299.4</td>\n",
       "      <td>71</td>\n",
       "      <td>50.90</td>\n",
       "      <td>...</td>\n",
       "      <td>88</td>\n",
       "      <td>5.26</td>\n",
       "      <td>196.9</td>\n",
       "      <td>89</td>\n",
       "      <td>8.86</td>\n",
       "      <td>6.6</td>\n",
       "      <td>7</td>\n",
       "      <td>1.78</td>\n",
       "      <td>2</td>\n",
       "      <td>no</td>\n",
       "    </tr>\n",
       "    <tr>\n",
       "      <th>4</th>\n",
       "      <td>5</td>\n",
       "      <td>OK</td>\n",
       "      <td>75</td>\n",
       "      <td>area_code_415</td>\n",
       "      <td>yes</td>\n",
       "      <td>no</td>\n",
       "      <td>0</td>\n",
       "      <td>166.7</td>\n",
       "      <td>113</td>\n",
       "      <td>28.34</td>\n",
       "      <td>...</td>\n",
       "      <td>122</td>\n",
       "      <td>12.61</td>\n",
       "      <td>186.9</td>\n",
       "      <td>121</td>\n",
       "      <td>8.41</td>\n",
       "      <td>10.1</td>\n",
       "      <td>3</td>\n",
       "      <td>2.73</td>\n",
       "      <td>3</td>\n",
       "      <td>no</td>\n",
       "    </tr>\n",
       "  </tbody>\n",
       "</table>\n",
       "<p>5 rows × 21 columns</p>\n",
       "</div>"
      ],
      "text/plain": [
       "   Unnamed: 0 state  account_length      area_code international_plan  \\\n",
       "0           1    KS             128  area_code_415                 no   \n",
       "1           2    OH             107  area_code_415                 no   \n",
       "2           3    NJ             137  area_code_415                 no   \n",
       "3           4    OH              84  area_code_408                yes   \n",
       "4           5    OK              75  area_code_415                yes   \n",
       "\n",
       "  voice_mail_plan  number_vmail_messages  total_day_minutes  total_day_calls  \\\n",
       "0             yes                     25              265.1              110   \n",
       "1             yes                     26              161.6              123   \n",
       "2              no                      0              243.4              114   \n",
       "3              no                      0              299.4               71   \n",
       "4              no                      0              166.7              113   \n",
       "\n",
       "   total_day_charge  ...  total_eve_calls  total_eve_charge  \\\n",
       "0             45.07  ...               99             16.78   \n",
       "1             27.47  ...              103             16.62   \n",
       "2             41.38  ...              110             10.30   \n",
       "3             50.90  ...               88              5.26   \n",
       "4             28.34  ...              122             12.61   \n",
       "\n",
       "   total_night_minutes  total_night_calls  total_night_charge  \\\n",
       "0                244.7                 91               11.01   \n",
       "1                254.4                103               11.45   \n",
       "2                162.6                104                7.32   \n",
       "3                196.9                 89                8.86   \n",
       "4                186.9                121                8.41   \n",
       "\n",
       "   total_intl_minutes  total_intl_calls  total_intl_charge  \\\n",
       "0                10.0                 3               2.70   \n",
       "1                13.7                 3               3.70   \n",
       "2                12.2                 5               3.29   \n",
       "3                 6.6                 7               1.78   \n",
       "4                10.1                 3               2.73   \n",
       "\n",
       "   number_customer_service_calls  churn  \n",
       "0                              1     no  \n",
       "1                              1     no  \n",
       "2                              0     no  \n",
       "3                              2     no  \n",
       "4                              3     no  \n",
       "\n",
       "[5 rows x 21 columns]"
      ]
     },
     "execution_count": 7,
     "metadata": {},
     "output_type": "execute_result"
    }
   ],
   "source": [
    "df_orig_train.head()"
   ]
  },
  {
   "cell_type": "code",
   "execution_count": 8,
   "metadata": {},
   "outputs": [
    {
     "data": {
      "text/plain": [
       "Unnamed: 0                         int64\n",
       "state                             object\n",
       "account_length                     int64\n",
       "area_code                         object\n",
       "international_plan                object\n",
       "voice_mail_plan                   object\n",
       "number_vmail_messages              int64\n",
       "total_day_minutes                float64\n",
       "total_day_calls                    int64\n",
       "total_day_charge                 float64\n",
       "total_eve_minutes                float64\n",
       "total_eve_calls                    int64\n",
       "total_eve_charge                 float64\n",
       "total_night_minutes              float64\n",
       "total_night_calls                  int64\n",
       "total_night_charge               float64\n",
       "total_intl_minutes               float64\n",
       "total_intl_calls                   int64\n",
       "total_intl_charge                float64\n",
       "number_customer_service_calls      int64\n",
       "churn                             object\n",
       "dtype: object"
      ]
     },
     "execution_count": 8,
     "metadata": {},
     "output_type": "execute_result"
    }
   ],
   "source": [
    "df_orig_train.dtypes"
   ]
  },
  {
   "cell_type": "markdown",
   "metadata": {},
   "source": [
    "As colunas state, area_code, international_plan, voice_mail_plan e churn são não numéricas."
   ]
  },
  {
   "cell_type": "code",
   "execution_count": 9,
   "metadata": {},
   "outputs": [
    {
     "data": {
      "text/plain": [
       "(3333, 21)"
      ]
     },
     "execution_count": 9,
     "metadata": {},
     "output_type": "execute_result"
    }
   ],
   "source": [
    "df_orig_train.shape"
   ]
  },
  {
   "cell_type": "code",
   "execution_count": 10,
   "metadata": {},
   "outputs": [
    {
     "data": {
      "text/plain": [
       "(1667, 21)"
      ]
     },
     "execution_count": 10,
     "metadata": {},
     "output_type": "execute_result"
    }
   ],
   "source": [
    "df_orig_test.shape"
   ]
  },
  {
   "cell_type": "code",
   "execution_count": 11,
   "metadata": {
    "scrolled": false
   },
   "outputs": [
    {
     "data": {
      "text/html": [
       "<div>\n",
       "<style scoped>\n",
       "    .dataframe tbody tr th:only-of-type {\n",
       "        vertical-align: middle;\n",
       "    }\n",
       "\n",
       "    .dataframe tbody tr th {\n",
       "        vertical-align: top;\n",
       "    }\n",
       "\n",
       "    .dataframe thead th {\n",
       "        text-align: right;\n",
       "    }\n",
       "</style>\n",
       "<table border=\"1\" class=\"dataframe\">\n",
       "  <thead>\n",
       "    <tr style=\"text-align: right;\">\n",
       "      <th></th>\n",
       "      <th>Unnamed: 0</th>\n",
       "      <th>account_length</th>\n",
       "      <th>number_vmail_messages</th>\n",
       "      <th>total_day_minutes</th>\n",
       "      <th>total_day_calls</th>\n",
       "      <th>total_day_charge</th>\n",
       "      <th>total_eve_minutes</th>\n",
       "      <th>total_eve_calls</th>\n",
       "      <th>total_eve_charge</th>\n",
       "      <th>total_night_minutes</th>\n",
       "      <th>total_night_calls</th>\n",
       "      <th>total_night_charge</th>\n",
       "      <th>total_intl_minutes</th>\n",
       "      <th>total_intl_calls</th>\n",
       "      <th>total_intl_charge</th>\n",
       "      <th>number_customer_service_calls</th>\n",
       "    </tr>\n",
       "  </thead>\n",
       "  <tbody>\n",
       "    <tr>\n",
       "      <th>count</th>\n",
       "      <td>3333.00000</td>\n",
       "      <td>3333.000000</td>\n",
       "      <td>3333.000000</td>\n",
       "      <td>3333.000000</td>\n",
       "      <td>3333.000000</td>\n",
       "      <td>3333.000000</td>\n",
       "      <td>3333.000000</td>\n",
       "      <td>3333.000000</td>\n",
       "      <td>3333.000000</td>\n",
       "      <td>3333.000000</td>\n",
       "      <td>3333.000000</td>\n",
       "      <td>3333.000000</td>\n",
       "      <td>3333.000000</td>\n",
       "      <td>3333.000000</td>\n",
       "      <td>3333.000000</td>\n",
       "      <td>3333.000000</td>\n",
       "    </tr>\n",
       "    <tr>\n",
       "      <th>mean</th>\n",
       "      <td>1667.00000</td>\n",
       "      <td>101.064806</td>\n",
       "      <td>8.099010</td>\n",
       "      <td>179.775098</td>\n",
       "      <td>100.435644</td>\n",
       "      <td>30.562307</td>\n",
       "      <td>200.980348</td>\n",
       "      <td>100.114311</td>\n",
       "      <td>17.083540</td>\n",
       "      <td>200.872037</td>\n",
       "      <td>100.107711</td>\n",
       "      <td>9.039325</td>\n",
       "      <td>10.237294</td>\n",
       "      <td>4.479448</td>\n",
       "      <td>2.764581</td>\n",
       "      <td>1.562856</td>\n",
       "    </tr>\n",
       "    <tr>\n",
       "      <th>std</th>\n",
       "      <td>962.29855</td>\n",
       "      <td>39.822106</td>\n",
       "      <td>13.688365</td>\n",
       "      <td>54.467389</td>\n",
       "      <td>20.069084</td>\n",
       "      <td>9.259435</td>\n",
       "      <td>50.713844</td>\n",
       "      <td>19.922625</td>\n",
       "      <td>4.310668</td>\n",
       "      <td>50.573847</td>\n",
       "      <td>19.568609</td>\n",
       "      <td>2.275873</td>\n",
       "      <td>2.791840</td>\n",
       "      <td>2.461214</td>\n",
       "      <td>0.753773</td>\n",
       "      <td>1.315491</td>\n",
       "    </tr>\n",
       "    <tr>\n",
       "      <th>min</th>\n",
       "      <td>1.00000</td>\n",
       "      <td>1.000000</td>\n",
       "      <td>0.000000</td>\n",
       "      <td>0.000000</td>\n",
       "      <td>0.000000</td>\n",
       "      <td>0.000000</td>\n",
       "      <td>0.000000</td>\n",
       "      <td>0.000000</td>\n",
       "      <td>0.000000</td>\n",
       "      <td>23.200000</td>\n",
       "      <td>33.000000</td>\n",
       "      <td>1.040000</td>\n",
       "      <td>0.000000</td>\n",
       "      <td>0.000000</td>\n",
       "      <td>0.000000</td>\n",
       "      <td>0.000000</td>\n",
       "    </tr>\n",
       "    <tr>\n",
       "      <th>25%</th>\n",
       "      <td>834.00000</td>\n",
       "      <td>74.000000</td>\n",
       "      <td>0.000000</td>\n",
       "      <td>143.700000</td>\n",
       "      <td>87.000000</td>\n",
       "      <td>24.430000</td>\n",
       "      <td>166.600000</td>\n",
       "      <td>87.000000</td>\n",
       "      <td>14.160000</td>\n",
       "      <td>167.000000</td>\n",
       "      <td>87.000000</td>\n",
       "      <td>7.520000</td>\n",
       "      <td>8.500000</td>\n",
       "      <td>3.000000</td>\n",
       "      <td>2.300000</td>\n",
       "      <td>1.000000</td>\n",
       "    </tr>\n",
       "    <tr>\n",
       "      <th>50%</th>\n",
       "      <td>1667.00000</td>\n",
       "      <td>101.000000</td>\n",
       "      <td>0.000000</td>\n",
       "      <td>179.400000</td>\n",
       "      <td>101.000000</td>\n",
       "      <td>30.500000</td>\n",
       "      <td>201.400000</td>\n",
       "      <td>100.000000</td>\n",
       "      <td>17.120000</td>\n",
       "      <td>201.200000</td>\n",
       "      <td>100.000000</td>\n",
       "      <td>9.050000</td>\n",
       "      <td>10.300000</td>\n",
       "      <td>4.000000</td>\n",
       "      <td>2.780000</td>\n",
       "      <td>1.000000</td>\n",
       "    </tr>\n",
       "    <tr>\n",
       "      <th>75%</th>\n",
       "      <td>2500.00000</td>\n",
       "      <td>127.000000</td>\n",
       "      <td>20.000000</td>\n",
       "      <td>216.400000</td>\n",
       "      <td>114.000000</td>\n",
       "      <td>36.790000</td>\n",
       "      <td>235.300000</td>\n",
       "      <td>114.000000</td>\n",
       "      <td>20.000000</td>\n",
       "      <td>235.300000</td>\n",
       "      <td>113.000000</td>\n",
       "      <td>10.590000</td>\n",
       "      <td>12.100000</td>\n",
       "      <td>6.000000</td>\n",
       "      <td>3.270000</td>\n",
       "      <td>2.000000</td>\n",
       "    </tr>\n",
       "    <tr>\n",
       "      <th>max</th>\n",
       "      <td>3333.00000</td>\n",
       "      <td>243.000000</td>\n",
       "      <td>51.000000</td>\n",
       "      <td>350.800000</td>\n",
       "      <td>165.000000</td>\n",
       "      <td>59.640000</td>\n",
       "      <td>363.700000</td>\n",
       "      <td>170.000000</td>\n",
       "      <td>30.910000</td>\n",
       "      <td>395.000000</td>\n",
       "      <td>175.000000</td>\n",
       "      <td>17.770000</td>\n",
       "      <td>20.000000</td>\n",
       "      <td>20.000000</td>\n",
       "      <td>5.400000</td>\n",
       "      <td>9.000000</td>\n",
       "    </tr>\n",
       "  </tbody>\n",
       "</table>\n",
       "</div>"
      ],
      "text/plain": [
       "       Unnamed: 0  account_length  number_vmail_messages  total_day_minutes  \\\n",
       "count  3333.00000     3333.000000            3333.000000        3333.000000   \n",
       "mean   1667.00000      101.064806               8.099010         179.775098   \n",
       "std     962.29855       39.822106              13.688365          54.467389   \n",
       "min       1.00000        1.000000               0.000000           0.000000   \n",
       "25%     834.00000       74.000000               0.000000         143.700000   \n",
       "50%    1667.00000      101.000000               0.000000         179.400000   \n",
       "75%    2500.00000      127.000000              20.000000         216.400000   \n",
       "max    3333.00000      243.000000              51.000000         350.800000   \n",
       "\n",
       "       total_day_calls  total_day_charge  total_eve_minutes  total_eve_calls  \\\n",
       "count      3333.000000       3333.000000        3333.000000      3333.000000   \n",
       "mean        100.435644         30.562307         200.980348       100.114311   \n",
       "std          20.069084          9.259435          50.713844        19.922625   \n",
       "min           0.000000          0.000000           0.000000         0.000000   \n",
       "25%          87.000000         24.430000         166.600000        87.000000   \n",
       "50%         101.000000         30.500000         201.400000       100.000000   \n",
       "75%         114.000000         36.790000         235.300000       114.000000   \n",
       "max         165.000000         59.640000         363.700000       170.000000   \n",
       "\n",
       "       total_eve_charge  total_night_minutes  total_night_calls  \\\n",
       "count       3333.000000          3333.000000        3333.000000   \n",
       "mean          17.083540           200.872037         100.107711   \n",
       "std            4.310668            50.573847          19.568609   \n",
       "min            0.000000            23.200000          33.000000   \n",
       "25%           14.160000           167.000000          87.000000   \n",
       "50%           17.120000           201.200000         100.000000   \n",
       "75%           20.000000           235.300000         113.000000   \n",
       "max           30.910000           395.000000         175.000000   \n",
       "\n",
       "       total_night_charge  total_intl_minutes  total_intl_calls  \\\n",
       "count         3333.000000         3333.000000       3333.000000   \n",
       "mean             9.039325           10.237294          4.479448   \n",
       "std              2.275873            2.791840          2.461214   \n",
       "min              1.040000            0.000000          0.000000   \n",
       "25%              7.520000            8.500000          3.000000   \n",
       "50%              9.050000           10.300000          4.000000   \n",
       "75%             10.590000           12.100000          6.000000   \n",
       "max             17.770000           20.000000         20.000000   \n",
       "\n",
       "       total_intl_charge  number_customer_service_calls  \n",
       "count        3333.000000                    3333.000000  \n",
       "mean            2.764581                       1.562856  \n",
       "std             0.753773                       1.315491  \n",
       "min             0.000000                       0.000000  \n",
       "25%             2.300000                       1.000000  \n",
       "50%             2.780000                       1.000000  \n",
       "75%             3.270000                       2.000000  \n",
       "max             5.400000                       9.000000  "
      ]
     },
     "execution_count": 11,
     "metadata": {},
     "output_type": "execute_result"
    }
   ],
   "source": [
    "df_orig_train.describe()"
   ]
  },
  {
   "cell_type": "markdown",
   "metadata": {},
   "source": [
    "A coluna number_vmail_messages tem muitos valores 0 (mais de 50%). As colunas de minutos (total_day_minutes e total_eve_minutes) tem desvio padrão elevado."
   ]
  },
  {
   "cell_type": "code",
   "execution_count": 12,
   "metadata": {},
   "outputs": [
    {
     "data": {
      "text/plain": [
       "no     2850\n",
       "yes     483\n",
       "Name: churn, dtype: int64"
      ]
     },
     "execution_count": 12,
     "metadata": {},
     "output_type": "execute_result"
    }
   ],
   "source": [
    "df_orig_train['churn'].value_counts()"
   ]
  },
  {
   "cell_type": "markdown",
   "metadata": {},
   "source": [
    "Dataset um pouco desbalanceado (~15% de resposta sim, e 0% resposta não)"
   ]
  },
  {
   "cell_type": "code",
   "execution_count": 13,
   "metadata": {},
   "outputs": [
    {
     "data": {
      "text/plain": [
       "Unnamed: 0                       3333\n",
       "state                              51\n",
       "account_length                    212\n",
       "area_code                           3\n",
       "international_plan                  2\n",
       "voice_mail_plan                     2\n",
       "number_vmail_messages              46\n",
       "total_day_minutes                1667\n",
       "total_day_calls                   119\n",
       "total_day_charge                 1667\n",
       "total_eve_minutes                1611\n",
       "total_eve_calls                   123\n",
       "total_eve_charge                 1440\n",
       "total_night_minutes              1591\n",
       "total_night_calls                 120\n",
       "total_night_charge                933\n",
       "total_intl_minutes                162\n",
       "total_intl_calls                   21\n",
       "total_intl_charge                 162\n",
       "number_customer_service_calls      10\n",
       "churn                               2\n",
       "dtype: int64"
      ]
     },
     "execution_count": 13,
     "metadata": {},
     "output_type": "execute_result"
    }
   ],
   "source": [
    "df_orig_train.nunique(axis = 0)"
   ]
  },
  {
   "cell_type": "markdown",
   "metadata": {},
   "source": [
    "Há apenas 3 valores de area_code, 2 de international plan e 2 de voice_mail_plan."
   ]
  },
  {
   "cell_type": "code",
   "execution_count": 14,
   "metadata": {},
   "outputs": [
    {
     "data": {
      "text/plain": [
       "False"
      ]
     },
     "execution_count": 14,
     "metadata": {},
     "output_type": "execute_result"
    }
   ],
   "source": [
    "df_orig_train.isnull().values.any()"
   ]
  },
  {
   "cell_type": "markdown",
   "metadata": {},
   "source": [
    "Não há valores null."
   ]
  },
  {
   "cell_type": "markdown",
   "metadata": {},
   "source": [
    "## 3.2 Análise Gráfica"
   ]
  },
  {
   "cell_type": "code",
   "execution_count": 15,
   "metadata": {},
   "outputs": [],
   "source": [
    "df_numeric = df_orig_train.select_dtypes(include=[np.number])\n",
    "df_categorical = df_orig_train.select_dtypes(include=[object])"
   ]
  },
  {
   "cell_type": "code",
   "execution_count": 16,
   "metadata": {},
   "outputs": [
    {
     "data": {
      "text/plain": [
       "(3333, 16)"
      ]
     },
     "execution_count": 16,
     "metadata": {},
     "output_type": "execute_result"
    }
   ],
   "source": [
    "df_numeric.shape"
   ]
  },
  {
   "cell_type": "markdown",
   "metadata": {},
   "source": [
    "### 3.2.1 Transformando as colunas categóricas em numéricas (encoding)"
   ]
  },
  {
   "cell_type": "code",
   "execution_count": 17,
   "metadata": {},
   "outputs": [],
   "source": [
    "df_cat_train = df_orig_train.copy()\n",
    "df_cat_test = df_orig_test.copy()"
   ]
  },
  {
   "cell_type": "code",
   "execution_count": 18,
   "metadata": {},
   "outputs": [],
   "source": [
    "cat_columns = ['state','area_code','international_plan','voice_mail_plan','churn']\n",
    "enc = LabelEncoder()\n",
    "for names in cat_columns:\n",
    "    df_cat_train.loc[:,names] = enc.fit_transform(df_cat_train.loc[:,names])\n",
    "    df_cat_test.loc[:,names] = enc.fit_transform(df_cat_test.loc[:,names])"
   ]
  },
  {
   "cell_type": "markdown",
   "metadata": {},
   "source": [
    "### 3.2.2 Boxplot das variáveis numéricas"
   ]
  },
  {
   "cell_type": "code",
   "execution_count": 19,
   "metadata": {},
   "outputs": [
    {
     "data": {
      "image/png": "[encoded data removed]",
      "text/plain": [
       "<Figure size 792x648 with 1 Axes>"
      ]
     },
     "metadata": {
      "needs_background": "light"
     },
     "output_type": "display_data"
    }
   ],
   "source": [
    "f1, ax1 = plt.subplots(figsize=(11, 9))\n",
    "g1 = sns.boxplot(data = df_numeric.iloc[:,1:])\n",
    "g1.set_xticklabels(ax1.get_xticklabels(),rotation=90)\n",
    "plt.title('Boxplot das Variáveis Numéricas')\n",
    "plt.show()\n",
    "f1 = g1.get_figure()\n",
    "f1.tight_layout()\n",
    "f1.savefig('plots/boxplot.png', facecolor = 'white')"
   ]
  },
  {
   "cell_type": "markdown",
   "metadata": {},
   "source": [
    "A escala não é tão diferente, mas algumas variáveis são muito menores (as últimas 5). Além disso, a coluna \"Unnamed: 0\", oculta nesse gráfico, possui uma escala consideravelmente maior."
   ]
  },
  {
   "cell_type": "markdown",
   "metadata": {},
   "source": [
    "### 3.2.3 Histogramas das variáveis numéricas"
   ]
  },
  {
   "cell_type": "code",
   "execution_count": 20,
   "metadata": {},
   "outputs": [
    {
     "data": {
      "image/png": "[encoded data removed]",
      "text/plain": [
       "<Figure size 864x864 with 16 Axes>"
      ]
     },
     "metadata": {
      "needs_background": "light"
     },
     "output_type": "display_data"
    }
   ],
   "source": [
    "g2 = sns.FacetGrid(df_numeric.melt(var_name = 'Variavel', value_name = 'Valor'), col= 'Variavel', col_wrap = 4, sharex = False)\n",
    "g2.map(plt.hist, 'Valor')\n",
    "plt.show()\n",
    "f2 = g2.fig\n",
    "f2.savefig('plots/histplots.png', facecolor = 'white', )"
   ]
  },
  {
   "cell_type": "markdown",
   "metadata": {},
   "source": [
    "A maioria das variáveis assume uma distribuição normal, enquanto a variável \"Unnamed: 0\" assume uma distribuição uniforme, e a variável number_vmail_messages possui uma grande quantidade de valores 0, quando os clientes não possuem voice_mail_plan, como demonstrado no código abaixo."
   ]
  },
  {
   "cell_type": "code",
   "execution_count": 21,
   "metadata": {
    "scrolled": true
   },
   "outputs": [
    {
     "data": {
      "text/plain": [
       "Series([], Name: number_vmail_messages, dtype: int64)"
      ]
     },
     "execution_count": 21,
     "metadata": {},
     "output_type": "execute_result"
    }
   ],
   "source": [
    "df_orig_train[df_orig_train.voice_mail_plan.eq(0)]['number_vmail_messages'].value_counts()"
   ]
  },
  {
   "cell_type": "markdown",
   "metadata": {},
   "source": [
    "### 3.2.4 Matriz de correlações"
   ]
  },
  {
   "cell_type": "code",
   "execution_count": 22,
   "metadata": {
    "scrolled": false
   },
   "outputs": [
    {
     "data": {
      "image/png": "[encoded data removed]",
      "text/plain": [
       "<Figure size 792x648 with 2 Axes>"
      ]
     },
     "metadata": {
      "needs_background": "light"
     },
     "output_type": "display_data"
    }
   ],
   "source": [
    "corr = df_cat_train.corr()\n",
    "mask = np.triu(np.ones_like(corr, dtype=bool))\n",
    "f3, ax3 = plt.subplots(figsize=(11, 9))\n",
    "cmap = sns.diverging_palette(230, 20, as_cmap=True)\n",
    "sns.heatmap(corr, mask=mask, cmap=cmap, vmax=.3, center=0, square=True, linewidths=.5, cbar_kws={\"shrink\": .5})\n",
    "plt.title('Gráfico de Correlações entre Variáveis')\n",
    "plt.show()\n",
    "f3.tight_layout()\n",
    "f3.savefig('plots/corrplot.png', facecolor = 'white', )"
   ]
  },
  {
   "cell_type": "markdown",
   "metadata": {},
   "source": [
    "Pode se observar que a variável target tem correlação média com international_plan, total_day_minutes, total_day_charge e number_customer_service_calls. Além disso, todas as variáveis \"charge\" tem correlação com as variáveis \"minutes\", e a variável number_vmail_messages com a voice_mail_plan."
   ]
  },
  {
   "cell_type": "markdown",
   "metadata": {},
   "source": [
    "### 3.2.5 Treemap da quantidade de registros por \"state\""
   ]
  },
  {
   "cell_type": "code",
   "execution_count": 23,
   "metadata": {},
   "outputs": [],
   "source": [
    "state_counts = pd.DataFrame(df_orig_train.state.value_counts())"
   ]
  },
  {
   "cell_type": "code",
   "execution_count": 24,
   "metadata": {},
   "outputs": [
    {
     "data": {
      "image/png": "[encoded data removed]",
      "text/plain": [
       "<Figure size 432x288 with 1 Axes>"
      ]
     },
     "metadata": {
      "needs_background": "light"
     },
     "output_type": "display_data"
    }
   ],
   "source": [
    "cmap = Blues\n",
    "mini=min(state_counts['state'].values)\n",
    "maxi=max(state_counts['state'].values)\n",
    "norm = Normalize(vmin=mini, vmax=maxi)\n",
    "colors = [cmap(norm(value)) for value in state_counts['state'].values]\n",
    "\n",
    "ax4 = squarify.plot(sizes=state_counts['state'], label=state_counts.index, alpha=.8, color = colors)\n",
    "plt.axis('off')\n",
    "plt.title('State Treemap')\n",
    "plt.show()\n",
    "f4 = ax4.get_figure()\n",
    "f4.tight_layout()\n",
    "f4.savefig('plots/stateTreemap.png', facecolor = 'white')"
   ]
  },
  {
   "cell_type": "markdown",
   "metadata": {},
   "source": [
    "### 3.2.6 Scatterplots de variáveis com correlação"
   ]
  },
  {
   "cell_type": "code",
   "execution_count": 25,
   "metadata": {},
   "outputs": [
    {
     "data": {
      "image/png": "[encoded data removed]",
      "text/plain": [
       "<Figure size 1296x432 with 3 Axes>"
      ]
     },
     "metadata": {
      "needs_background": "light"
     },
     "output_type": "display_data"
    }
   ],
   "source": [
    "f5, ax5 = plt.subplots(1,3,figsize = (18,6))\n",
    "for axN, name in [(0,'day'),(1,'eve'),(2,'night')]:\n",
    "    ax5[axN].set_title('Total '+name)\n",
    "    ax5[axN] = sns.scatterplot(x = \"total_\"+name+\"_charge\", y = \"total_\"+name+\"_minutes\",\n",
    "                               hue = 'churn', data = df_orig_train, ax=ax5[axN])\n",
    "plt.show()\n",
    "f5.tight_layout()\n",
    "f5.savefig('plots/scatterplots.png', facecolor = 'white')"
   ]
  },
  {
   "cell_type": "markdown",
   "metadata": {},
   "source": [
    "# 4 Pré Processamento"
   ]
  },
  {
   "cell_type": "code",
   "execution_count": 26,
   "metadata": {},
   "outputs": [],
   "source": [
    "df_prep_train = df_cat_train\n",
    "df_prep_test = df_cat_test"
   ]
  },
  {
   "cell_type": "code",
   "execution_count": 27,
   "metadata": {},
   "outputs": [],
   "source": [
    "seed = 1234"
   ]
  },
  {
   "cell_type": "markdown",
   "metadata": {},
   "source": [
    "## 4.2 Padronização"
   ]
  },
  {
   "cell_type": "code",
   "execution_count": 28,
   "metadata": {},
   "outputs": [
    {
     "data": {
      "text/html": [
       "<div>\n",
       "<style scoped>\n",
       "    .dataframe tbody tr th:only-of-type {\n",
       "        vertical-align: middle;\n",
       "    }\n",
       "\n",
       "    .dataframe tbody tr th {\n",
       "        vertical-align: top;\n",
       "    }\n",
       "\n",
       "    .dataframe thead th {\n",
       "        text-align: right;\n",
       "    }\n",
       "</style>\n",
       "<table border=\"1\" class=\"dataframe\">\n",
       "  <thead>\n",
       "    <tr style=\"text-align: right;\">\n",
       "      <th></th>\n",
       "      <th>0</th>\n",
       "      <th>1</th>\n",
       "      <th>2</th>\n",
       "      <th>3</th>\n",
       "      <th>4</th>\n",
       "      <th>5</th>\n",
       "      <th>6</th>\n",
       "      <th>7</th>\n",
       "      <th>8</th>\n",
       "      <th>9</th>\n",
       "      <th>...</th>\n",
       "      <th>11</th>\n",
       "      <th>12</th>\n",
       "      <th>13</th>\n",
       "      <th>14</th>\n",
       "      <th>15</th>\n",
       "      <th>16</th>\n",
       "      <th>17</th>\n",
       "      <th>18</th>\n",
       "      <th>19</th>\n",
       "      <th>churn</th>\n",
       "    </tr>\n",
       "  </thead>\n",
       "  <tbody>\n",
       "    <tr>\n",
       "      <th>0</th>\n",
       "      <td>-1.731531</td>\n",
       "      <td>-0.678649</td>\n",
       "      <td>0.676489</td>\n",
       "      <td>-0.000846</td>\n",
       "      <td>-0.327580</td>\n",
       "      <td>1.617086</td>\n",
       "      <td>1.234883</td>\n",
       "      <td>1.566767</td>\n",
       "      <td>0.476643</td>\n",
       "      <td>1.567036</td>\n",
       "      <td>...</td>\n",
       "      <td>-0.055940</td>\n",
       "      <td>-0.070427</td>\n",
       "      <td>0.866743</td>\n",
       "      <td>-0.465494</td>\n",
       "      <td>0.866029</td>\n",
       "      <td>-0.085008</td>\n",
       "      <td>-0.601195</td>\n",
       "      <td>-0.085690</td>\n",
       "      <td>-0.427932</td>\n",
       "      <td>0</td>\n",
       "    </tr>\n",
       "    <tr>\n",
       "      <th>1</th>\n",
       "      <td>-1.730492</td>\n",
       "      <td>0.603170</td>\n",
       "      <td>0.149065</td>\n",
       "      <td>-0.000846</td>\n",
       "      <td>-0.327580</td>\n",
       "      <td>1.617086</td>\n",
       "      <td>1.307948</td>\n",
       "      <td>-0.333738</td>\n",
       "      <td>1.124503</td>\n",
       "      <td>-0.334013</td>\n",
       "      <td>...</td>\n",
       "      <td>0.144867</td>\n",
       "      <td>-0.107549</td>\n",
       "      <td>1.058571</td>\n",
       "      <td>0.147825</td>\n",
       "      <td>1.059390</td>\n",
       "      <td>1.240482</td>\n",
       "      <td>-0.601195</td>\n",
       "      <td>1.241169</td>\n",
       "      <td>-0.427932</td>\n",
       "      <td>0</td>\n",
       "    </tr>\n",
       "    <tr>\n",
       "      <th>2</th>\n",
       "      <td>-1.729453</td>\n",
       "      <td>0.333313</td>\n",
       "      <td>0.902529</td>\n",
       "      <td>-0.000846</td>\n",
       "      <td>-0.327580</td>\n",
       "      <td>-0.618396</td>\n",
       "      <td>-0.591760</td>\n",
       "      <td>1.168304</td>\n",
       "      <td>0.675985</td>\n",
       "      <td>1.168464</td>\n",
       "      <td>...</td>\n",
       "      <td>0.496279</td>\n",
       "      <td>-1.573900</td>\n",
       "      <td>-0.756869</td>\n",
       "      <td>0.198935</td>\n",
       "      <td>-0.755571</td>\n",
       "      <td>0.703121</td>\n",
       "      <td>0.211534</td>\n",
       "      <td>0.697156</td>\n",
       "      <td>-1.188218</td>\n",
       "      <td>0</td>\n",
       "    </tr>\n",
       "    <tr>\n",
       "      <th>3</th>\n",
       "      <td>-1.728413</td>\n",
       "      <td>0.603170</td>\n",
       "      <td>-0.428590</td>\n",
       "      <td>-1.410205</td>\n",
       "      <td>3.052685</td>\n",
       "      <td>-0.618396</td>\n",
       "      <td>-0.591760</td>\n",
       "      <td>2.196596</td>\n",
       "      <td>-1.466936</td>\n",
       "      <td>2.196759</td>\n",
       "      <td>...</td>\n",
       "      <td>-0.608159</td>\n",
       "      <td>-2.743268</td>\n",
       "      <td>-0.078551</td>\n",
       "      <td>-0.567714</td>\n",
       "      <td>-0.078806</td>\n",
       "      <td>-1.303026</td>\n",
       "      <td>1.024263</td>\n",
       "      <td>-1.306401</td>\n",
       "      <td>0.332354</td>\n",
       "      <td>0</td>\n",
       "    </tr>\n",
       "    <tr>\n",
       "      <th>4</th>\n",
       "      <td>-1.727374</td>\n",
       "      <td>0.670634</td>\n",
       "      <td>-0.654629</td>\n",
       "      <td>-0.000846</td>\n",
       "      <td>3.052685</td>\n",
       "      <td>-0.618396</td>\n",
       "      <td>-0.591760</td>\n",
       "      <td>-0.240090</td>\n",
       "      <td>0.626149</td>\n",
       "      <td>-0.240041</td>\n",
       "      <td>...</td>\n",
       "      <td>1.098699</td>\n",
       "      <td>-1.037939</td>\n",
       "      <td>-0.276311</td>\n",
       "      <td>1.067803</td>\n",
       "      <td>-0.276562</td>\n",
       "      <td>-0.049184</td>\n",
       "      <td>-0.601195</td>\n",
       "      <td>-0.045885</td>\n",
       "      <td>1.092641</td>\n",
       "      <td>0</td>\n",
       "    </tr>\n",
       "  </tbody>\n",
       "</table>\n",
       "<p>5 rows × 21 columns</p>\n",
       "</div>"
      ],
      "text/plain": [
       "          0         1         2         3         4         5         6  \\\n",
       "0 -1.731531 -0.678649  0.676489 -0.000846 -0.327580  1.617086  1.234883   \n",
       "1 -1.730492  0.603170  0.149065 -0.000846 -0.327580  1.617086  1.307948   \n",
       "2 -1.729453  0.333313  0.902529 -0.000846 -0.327580 -0.618396 -0.591760   \n",
       "3 -1.728413  0.603170 -0.428590 -1.410205  3.052685 -0.618396 -0.591760   \n",
       "4 -1.727374  0.670634 -0.654629 -0.000846  3.052685 -0.618396 -0.591760   \n",
       "\n",
       "          7         8         9  ...        11        12        13        14  \\\n",
       "0  1.566767  0.476643  1.567036  ... -0.055940 -0.070427  0.866743 -0.465494   \n",
       "1 -0.333738  1.124503 -0.334013  ...  0.144867 -0.107549  1.058571  0.147825   \n",
       "2  1.168304  0.675985  1.168464  ...  0.496279 -1.573900 -0.756869  0.198935   \n",
       "3  2.196596 -1.466936  2.196759  ... -0.608159 -2.743268 -0.078551 -0.567714   \n",
       "4 -0.240090  0.626149 -0.240041  ...  1.098699 -1.037939 -0.276311  1.067803   \n",
       "\n",
       "         15        16        17        18        19  churn  \n",
       "0  0.866029 -0.085008 -0.601195 -0.085690 -0.427932      0  \n",
       "1  1.059390  1.240482 -0.601195  1.241169 -0.427932      0  \n",
       "2 -0.755571  0.703121  0.211534  0.697156 -1.188218      0  \n",
       "3 -0.078806 -1.303026  1.024263 -1.306401  0.332354      0  \n",
       "4 -0.276562 -0.049184 -0.601195 -0.045885  1.092641      0  \n",
       "\n",
       "[5 rows x 21 columns]"
      ]
     },
     "execution_count": 28,
     "metadata": {},
     "output_type": "execute_result"
    }
   ],
   "source": [
    "scaler = StandardScaler()\n",
    "scaler.fit(df_prep_train.iloc[:,0:len(df_prep_train.columns)-1])\n",
    "\n",
    "rescaled_values_train = scaler.transform(df_prep_train.iloc[:,0:len(df_prep_train.columns)-1])\n",
    "df_padr_train = pd.DataFrame(rescaled_values_train)\n",
    "df_padr_train['churn'] = df_prep_train['churn']\n",
    "df_padr_train.head()"
   ]
  },
  {
   "cell_type": "code",
   "execution_count": 29,
   "metadata": {},
   "outputs": [
    {
     "data": {
      "text/html": [
       "<div>\n",
       "<style scoped>\n",
       "    .dataframe tbody tr th:only-of-type {\n",
       "        vertical-align: middle;\n",
       "    }\n",
       "\n",
       "    .dataframe tbody tr th {\n",
       "        vertical-align: top;\n",
       "    }\n",
       "\n",
       "    .dataframe thead th {\n",
       "        text-align: right;\n",
       "    }\n",
       "</style>\n",
       "<table border=\"1\" class=\"dataframe\">\n",
       "  <thead>\n",
       "    <tr style=\"text-align: right;\">\n",
       "      <th></th>\n",
       "      <th>0</th>\n",
       "      <th>1</th>\n",
       "      <th>2</th>\n",
       "      <th>3</th>\n",
       "      <th>4</th>\n",
       "      <th>5</th>\n",
       "      <th>6</th>\n",
       "      <th>7</th>\n",
       "      <th>8</th>\n",
       "      <th>9</th>\n",
       "      <th>...</th>\n",
       "      <th>11</th>\n",
       "      <th>12</th>\n",
       "      <th>13</th>\n",
       "      <th>14</th>\n",
       "      <th>15</th>\n",
       "      <th>16</th>\n",
       "      <th>17</th>\n",
       "      <th>18</th>\n",
       "      <th>19</th>\n",
       "      <th>churn</th>\n",
       "    </tr>\n",
       "  </thead>\n",
       "  <tbody>\n",
       "    <tr>\n",
       "      <th>0</th>\n",
       "      <td>-1.731531</td>\n",
       "      <td>-1.015970</td>\n",
       "      <td>-0.001628</td>\n",
       "      <td>1.408514</td>\n",
       "      <td>-0.32758</td>\n",
       "      <td>-0.618396</td>\n",
       "      <td>-0.591760</td>\n",
       "      <td>-1.999204</td>\n",
       "      <td>1.124503</td>\n",
       "      <td>-1.999591</td>\n",
       "      <td>...</td>\n",
       "      <td>-1.361185</td>\n",
       "      <td>0.214955</td>\n",
       "      <td>0.694692</td>\n",
       "      <td>-1.385473</td>\n",
       "      <td>0.694640</td>\n",
       "      <td>0.129936</td>\n",
       "      <td>-0.601195</td>\n",
       "      <td>0.126607</td>\n",
       "      <td>1.092641</td>\n",
       "      <td>0</td>\n",
       "    </tr>\n",
       "    <tr>\n",
       "      <th>1</th>\n",
       "      <td>-1.730492</td>\n",
       "      <td>-0.004008</td>\n",
       "      <td>0.902529</td>\n",
       "      <td>1.408514</td>\n",
       "      <td>-0.32758</td>\n",
       "      <td>-0.618396</td>\n",
       "      <td>-0.591760</td>\n",
       "      <td>0.804729</td>\n",
       "      <td>-0.719406</td>\n",
       "      <td>0.804456</td>\n",
       "      <td>...</td>\n",
       "      <td>1.952128</td>\n",
       "      <td>0.864604</td>\n",
       "      <td>-2.109550</td>\n",
       "      <td>-0.976594</td>\n",
       "      <td>-2.109101</td>\n",
       "      <td>-0.264128</td>\n",
       "      <td>1.024263</td>\n",
       "      <td>-0.258182</td>\n",
       "      <td>-1.188218</td>\n",
       "      <td>0</td>\n",
       "    </tr>\n",
       "    <tr>\n",
       "      <th>2</th>\n",
       "      <td>-1.729453</td>\n",
       "      <td>0.603170</td>\n",
       "      <td>0.048603</td>\n",
       "      <td>-1.410205</td>\n",
       "      <td>-0.32758</td>\n",
       "      <td>1.617086</td>\n",
       "      <td>1.527146</td>\n",
       "      <td>2.110293</td>\n",
       "      <td>-0.270887</td>\n",
       "      <td>2.110347</td>\n",
       "      <td>...</td>\n",
       "      <td>0.245270</td>\n",
       "      <td>0.716112</td>\n",
       "      <td>1.966291</td>\n",
       "      <td>1.374463</td>\n",
       "      <td>1.964673</td>\n",
       "      <td>1.240482</td>\n",
       "      <td>0.617898</td>\n",
       "      <td>1.241169</td>\n",
       "      <td>-0.427932</td>\n",
       "      <td>0</td>\n",
       "    </tr>\n",
       "    <tr>\n",
       "      <th>3</th>\n",
       "      <td>-1.728413</td>\n",
       "      <td>0.400777</td>\n",
       "      <td>-0.051859</td>\n",
       "      <td>-0.000846</td>\n",
       "      <td>-0.32758</td>\n",
       "      <td>-0.618396</td>\n",
       "      <td>-0.591760</td>\n",
       "      <td>0.679865</td>\n",
       "      <td>1.124503</td>\n",
       "      <td>0.680240</td>\n",
       "      <td>...</td>\n",
       "      <td>-0.608159</td>\n",
       "      <td>-1.471812</td>\n",
       "      <td>0.390141</td>\n",
       "      <td>-0.925484</td>\n",
       "      <td>0.391414</td>\n",
       "      <td>1.956963</td>\n",
       "      <td>-1.007560</td>\n",
       "      <td>1.957673</td>\n",
       "      <td>-0.427932</td>\n",
       "      <td>0</td>\n",
       "    </tr>\n",
       "    <tr>\n",
       "      <th>4</th>\n",
       "      <td>-1.727374</td>\n",
       "      <td>0.940490</td>\n",
       "      <td>0.174180</td>\n",
       "      <td>-0.000846</td>\n",
       "      <td>-0.32758</td>\n",
       "      <td>-0.618396</td>\n",
       "      <td>-0.591760</td>\n",
       "      <td>0.323635</td>\n",
       "      <td>-1.118088</td>\n",
       "      <td>0.323793</td>\n",
       "      <td>...</td>\n",
       "      <td>0.044463</td>\n",
       "      <td>-1.518215</td>\n",
       "      <td>0.071747</td>\n",
       "      <td>0.352264</td>\n",
       "      <td>0.070610</td>\n",
       "      <td>-0.908961</td>\n",
       "      <td>-0.194831</td>\n",
       "      <td>-0.908343</td>\n",
       "      <td>0.332354</td>\n",
       "      <td>0</td>\n",
       "    </tr>\n",
       "  </tbody>\n",
       "</table>\n",
       "<p>5 rows × 21 columns</p>\n",
       "</div>"
      ],
      "text/plain": [
       "          0         1         2         3        4         5         6  \\\n",
       "0 -1.731531 -1.015970 -0.001628  1.408514 -0.32758 -0.618396 -0.591760   \n",
       "1 -1.730492 -0.004008  0.902529  1.408514 -0.32758 -0.618396 -0.591760   \n",
       "2 -1.729453  0.603170  0.048603 -1.410205 -0.32758  1.617086  1.527146   \n",
       "3 -1.728413  0.400777 -0.051859 -0.000846 -0.32758 -0.618396 -0.591760   \n",
       "4 -1.727374  0.940490  0.174180 -0.000846 -0.32758 -0.618396 -0.591760   \n",
       "\n",
       "          7         8         9  ...        11        12        13        14  \\\n",
       "0 -1.999204  1.124503 -1.999591  ... -1.361185  0.214955  0.694692 -1.385473   \n",
       "1  0.804729 -0.719406  0.804456  ...  1.952128  0.864604 -2.109550 -0.976594   \n",
       "2  2.110293 -0.270887  2.110347  ...  0.245270  0.716112  1.966291  1.374463   \n",
       "3  0.679865  1.124503  0.680240  ... -0.608159 -1.471812  0.390141 -0.925484   \n",
       "4  0.323635 -1.118088  0.323793  ...  0.044463 -1.518215  0.071747  0.352264   \n",
       "\n",
       "         15        16        17        18        19  churn  \n",
       "0  0.694640  0.129936 -0.601195  0.126607  1.092641      0  \n",
       "1 -2.109101 -0.264128  1.024263 -0.258182 -1.188218      0  \n",
       "2  1.964673  1.240482  0.617898  1.241169 -0.427932      0  \n",
       "3  0.391414  1.956963 -1.007560  1.957673 -0.427932      0  \n",
       "4  0.070610 -0.908961 -0.194831 -0.908343  0.332354      0  \n",
       "\n",
       "[5 rows x 21 columns]"
      ]
     },
     "execution_count": 29,
     "metadata": {},
     "output_type": "execute_result"
    }
   ],
   "source": [
    "rescaled_values_test = scaler.transform(df_prep_test.iloc[:,0:len(df_prep_test.columns)-1])\n",
    "df_padr_test = pd.DataFrame(rescaled_values_test)\n",
    "df_padr_test['churn'] = df_prep_test['churn']\n",
    "df_padr_test.head()"
   ]
  },
  {
   "cell_type": "markdown",
   "metadata": {},
   "source": [
    "## 4.3 X e Y split"
   ]
  },
  {
   "cell_type": "code",
   "execution_count": 30,
   "metadata": {},
   "outputs": [],
   "source": [
    "df_train_X = df_padr_train.values[:,0:len(df_padr_train.columns)-1]\n",
    "df_train_Y = df_padr_train.values[:,len(df_padr_train.columns)-1]\n",
    "df_test_X = df_padr_test.values[:,0:len(df_padr_test.columns)-1]\n",
    "df_test_Y = df_padr_test.values[:,len(df_padr_test.columns)-1]"
   ]
  },
  {
   "cell_type": "markdown",
   "metadata": {},
   "source": [
    "## 4.4 Balanceamento de Classes (SMOTE)"
   ]
  },
  {
   "cell_type": "code",
   "execution_count": 31,
   "metadata": {},
   "outputs": [],
   "source": [
    "SM = SMOTE(random_state = seed, n_jobs = -1)\n",
    "df_train_X, df_train_Y = SM.fit_resample(df_train_X, df_train_Y)"
   ]
  },
  {
   "cell_type": "code",
   "execution_count": 32,
   "metadata": {},
   "outputs": [
    {
     "data": {
      "text/plain": [
       "1.0    2850\n",
       "0.0    2850\n",
       "dtype: int64"
      ]
     },
     "execution_count": 32,
     "metadata": {},
     "output_type": "execute_result"
    }
   ],
   "source": [
    "pd.value_counts(df_train_Y)"
   ]
  },
  {
   "cell_type": "markdown",
   "metadata": {},
   "source": [
    "# 5 Modelo de Regressão Logística"
   ]
  },
  {
   "cell_type": "code",
   "execution_count": 33,
   "metadata": {
    "scrolled": true
   },
   "outputs": [
    {
     "data": {
      "text/plain": [
       "LogisticRegression(max_iter=1000, random_state=1234)"
      ]
     },
     "execution_count": 33,
     "metadata": {},
     "output_type": "execute_result"
    }
   ],
   "source": [
    "modelo_lr = LogisticRegression(max_iter = 1000, random_state = seed)\n",
    "modelo_lr.fit(df_train_X, df_train_Y)"
   ]
  },
  {
   "cell_type": "code",
   "execution_count": 34,
   "metadata": {
    "scrolled": true
   },
   "outputs": [
    {
     "name": "stdout",
     "output_type": "stream",
     "text": [
      "Confusion Matrix nos Dados de Treino\n",
      "[[2190  610]\n",
      " [ 660 2240]]\n",
      "              precision    recall  f1-score   support\n",
      "\n",
      "         0.0       0.78      0.77      0.78      2850\n",
      "         1.0       0.77      0.79      0.78      2850\n",
      "\n",
      "    accuracy                           0.78      5700\n",
      "   macro avg       0.78      0.78      0.78      5700\n",
      "weighted avg       0.78      0.78      0.78      5700\n",
      "\n",
      "O modelo teve 77.72% de precisão e 83.61% de AUC nos dados de treino.\n"
     ]
    }
   ],
   "source": [
    "previsoes_lr_train = modelo_lr.predict(df_train_X)\n",
    "print(\"Confusion Matrix nos Dados de Treino\")\n",
    "print(confusion_matrix(previsoes_lr_train, df_train_Y))\n",
    "print(classification_report(df_train_Y, previsoes_lr_train))\n",
    "acc_lr_train = accuracy_score(df_train_Y, previsoes_lr_train)\n",
    "auc_lr_train = roc_auc_score(df_train_Y, modelo_lr.predict_proba(df_train_X)[:,1])\n",
    "print('O modelo teve {:2.2%} de precisão e {:2.2%} de AUC nos dados de treino.'.format(acc_lr_train, auc_lr_train))"
   ]
  },
  {
   "cell_type": "code",
   "execution_count": 35,
   "metadata": {},
   "outputs": [
    {
     "name": "stdout",
     "output_type": "stream",
     "text": [
      "Confusion Matrix nos Dados de Teste\n",
      "[[1111   45]\n",
      " [ 332  179]]\n",
      "              precision    recall  f1-score   support\n",
      "\n",
      "         0.0       0.96      0.77      0.85      1443\n",
      "         1.0       0.35      0.80      0.49       224\n",
      "\n",
      "    accuracy                           0.77      1667\n",
      "   macro avg       0.66      0.78      0.67      1667\n",
      "weighted avg       0.88      0.77      0.81      1667\n",
      "\n",
      "O modelo teve 77.38% de precisão e 83.81% de AUC nos dados de teste.\n"
     ]
    }
   ],
   "source": [
    "previsoes_lr_test = modelo_lr.predict(df_test_X)\n",
    "print(\"Confusion Matrix nos Dados de Teste\")\n",
    "print(confusion_matrix(previsoes_lr_test, df_test_Y)) \n",
    "print(classification_report(df_test_Y, previsoes_lr_test))\n",
    "acc_lr_test = accuracy_score(df_test_Y, previsoes_lr_test)\n",
    "auc_lr_test = roc_auc_score(df_test_Y, modelo_lr.predict_proba(df_test_X)[:,1])\n",
    "print('O modelo teve {:2.2%} de precisão e {:2.2%} de AUC nos dados de teste.'.format(acc_lr_test, auc_lr_test))"
   ]
  },
  {
   "cell_type": "markdown",
   "metadata": {},
   "source": [
    "# 6 Automatizando com Pipeline"
   ]
  },
  {
   "cell_type": "code",
   "execution_count": 36,
   "metadata": {},
   "outputs": [],
   "source": [
    "X_train_pipe = df_prep_train.values[:,0:len(df_prep_train.columns)-1]\n",
    "Y_train_pipe = df_prep_train.values[:,len(df_prep_train.columns)-1]\n",
    "X_test_pipe = df_prep_test.iloc[:,0:len(df_prep_test.columns)-1]\n",
    "Y_test_pipe = df_prep_test.iloc[:,len(df_prep_test.columns)-1]"
   ]
  },
  {
   "cell_type": "code",
   "execution_count": 37,
   "metadata": {},
   "outputs": [
    {
     "data": {
      "text/plain": [
       "Pipeline(steps=[('scaler', StandardScaler()),\n",
       "                ('smote', SMOTE(n_jobs=-1, random_state=1234)),\n",
       "                ('lr', LogisticRegression(max_iter=1000, random_state=1234))])"
      ]
     },
     "execution_count": 37,
     "metadata": {},
     "output_type": "execute_result"
    }
   ],
   "source": [
    "pipe = Pipeline([\n",
    "    ('scaler', StandardScaler()),\n",
    "    ('smote', SMOTE(random_state = seed, n_jobs = -1)), \n",
    "    ('lr', LogisticRegression(max_iter = 1000, random_state = seed))\n",
    "])\n",
    "\n",
    "pipe.fit(X_train_pipe, Y_train_pipe)"
   ]
  },
  {
   "cell_type": "code",
   "execution_count": 38,
   "metadata": {},
   "outputs": [
    {
     "name": "stdout",
     "output_type": "stream",
     "text": [
      "O modelo teve 77.38% de precisão e 83.81% de AUC nos dados de teste.\n"
     ]
    }
   ],
   "source": [
    "acc_pipe = accuracy_score(Y_test_pipe, pipe.predict(X_test_pipe))\n",
    "auc_pipe = roc_auc_score(Y_test_pipe, pipe.predict_proba(X_test_pipe)[:,1])\n",
    "print('O modelo teve {:2.2%} de precisão e {:2.2%} de AUC nos dados de teste.'.format(acc_pipe, auc_pipe))"
   ]
  },
  {
   "cell_type": "markdown",
   "metadata": {},
   "source": [
    "# 7 Tuning do Modelo"
   ]
  },
  {
   "cell_type": "markdown",
   "metadata": {},
   "source": [
    "## 7.1 Parâmetros a serem testados"
   ]
  },
  {
   "cell_type": "code",
   "execution_count": 39,
   "metadata": {},
   "outputs": [],
   "source": [
    "parametros_test = {\n",
    "    'smote__sampling_strategy':['minority','auto','not minority','all'],\n",
    "    'lr__penalty': ['l1','l2'],\n",
    "    'lr__C':np.logspace(-3,4, 8),\n",
    "    'lr__class_weight':[{0:1,1:1},'balanced'],\n",
    "    'lr__solver':['liblinear']\n",
    "}"
   ]
  },
  {
   "cell_type": "markdown",
   "metadata": {},
   "source": [
    "## 7.2 Otimizando com GridSearchCV"
   ]
  },
  {
   "cell_type": "code",
   "execution_count": 40,
   "metadata": {},
   "outputs": [
    {
     "data": {
      "text/plain": [
       "GridSearchCV(cv=10,\n",
       "             estimator=Pipeline(steps=[('scaler', StandardScaler()),\n",
       "                                       ('smote',\n",
       "                                        SMOTE(n_jobs=-1, random_state=1234)),\n",
       "                                       ('lr',\n",
       "                                        LogisticRegression(max_iter=1000,\n",
       "                                                           random_state=1234))]),\n",
       "             n_jobs=-1,\n",
       "             param_grid={'lr__C': array([1.e-03, 1.e-02, 1.e-01, 1.e+00, 1.e+01, 1.e+02, 1.e+03, 1.e+04]),\n",
       "                         'lr__class_weight': [{0: 1, 1: 1}, 'balanced'],\n",
       "                         'lr__penalty': ['l1', 'l2'],\n",
       "                         'lr__solver': ['liblinear'],\n",
       "                         'smote__sampling_strategy': ['minority', 'auto',\n",
       "                                                      'not minority', 'all']},\n",
       "             scoring='roc_auc')"
      ]
     },
     "execution_count": 40,
     "metadata": {},
     "output_type": "execute_result"
    }
   ],
   "source": [
    "gridCV = GridSearchCV(pipe, parametros_test, scoring='roc_auc', cv=10, n_jobs=-1)\n",
    "gridCV.fit(X_train_pipe, Y_train_pipe)"
   ]
  },
  {
   "cell_type": "markdown",
   "metadata": {},
   "source": [
    "## 7.3 Previsões Finais"
   ]
  },
  {
   "cell_type": "code",
   "execution_count": 41,
   "metadata": {},
   "outputs": [],
   "source": [
    "prevs_train_final = gridCV.predict(X_train_pipe)\n",
    "prevs_test_final = gridCV.predict(X_test_pipe)\n",
    "probs_train_final = gridCV.predict_proba(X_train_pipe)[:,1]\n",
    "probs_test_final = gridCV.predict_proba(X_test_pipe)[:,1]"
   ]
  },
  {
   "cell_type": "markdown",
   "metadata": {},
   "source": [
    "## 7.4 Métricas Finais"
   ]
  },
  {
   "cell_type": "code",
   "execution_count": 42,
   "metadata": {},
   "outputs": [],
   "source": [
    "acc_train_final = accuracy_score(Y_train_pipe, prevs_train_final)\n",
    "acc_test_final = accuracy_score(Y_test_pipe, prevs_test_final)\n",
    "auc_train_final = roc_auc_score(Y_train_pipe, probs_train_final)\n",
    "auc_test_final = roc_auc_score(Y_test_pipe, probs_test_final)"
   ]
  },
  {
   "cell_type": "markdown",
   "metadata": {},
   "source": [
    "## 7.5 Melhor Modelo"
   ]
  },
  {
   "cell_type": "code",
   "execution_count": 43,
   "metadata": {},
   "outputs": [
    {
     "data": {
      "text/plain": [
       "Pipeline(steps=[('scaler', StandardScaler()),\n",
       "                ('smote',\n",
       "                 SMOTE(n_jobs=-1, random_state=1234,\n",
       "                       sampling_strategy='not minority')),\n",
       "                ('lr',\n",
       "                 LogisticRegression(C=0.1, class_weight='balanced',\n",
       "                                    max_iter=1000, random_state=1234,\n",
       "                                    solver='liblinear'))])"
      ]
     },
     "execution_count": 43,
     "metadata": {},
     "output_type": "execute_result"
    }
   ],
   "source": [
    "gridCV.best_estimator_"
   ]
  },
  {
   "cell_type": "markdown",
   "metadata": {},
   "source": [
    "## 7.6 Importância das Features"
   ]
  },
  {
   "cell_type": "code",
   "execution_count": 44,
   "metadata": {},
   "outputs": [],
   "source": [
    "feature_imp = pd.DataFrame(list(enumerate(abs(gridCV.best_estimator_['lr'].coef_[0]))),columns = ['Feature','Importance'])"
   ]
  },
  {
   "cell_type": "code",
   "execution_count": 45,
   "metadata": {},
   "outputs": [
    {
     "data": {
      "image/png": "[encoded data removed]",
      "text/plain": [
       "<Figure size 720x432 with 1 Axes>"
      ]
     },
     "metadata": {
      "needs_background": "light"
     },
     "output_type": "display_data"
    }
   ],
   "source": [
    "f6, ax6 = plt.subplots(figsize=(10,6))\n",
    "pal = sns.color_palette(\"Greens_d\", len(feature_imp))\n",
    "rank = feature_imp['Importance'].rank(ascending=False).values\n",
    "rank = (rank-1).astype(np.int)\n",
    "g6=sns.barplot(x='Feature',y='Importance',data=feature_imp, palette=np.array(pal[::-1])[rank])\n",
    "g6.set_ylabel('Importance (coefficients)')\n",
    "\n",
    "for index, row in feature_imp.iterrows():\n",
    "    g6.text(row.name,row.Importance + 0.01, round(row.Importance,2), color='black', ha=\"center\")\n",
    "\n",
    "plt.show()\n",
    "f6.tight_layout()\n",
    "f6.savefig('plots/featImp.png', facecolor = 'white')"
   ]
  },
  {
   "cell_type": "markdown",
   "metadata": {},
   "source": [
    "# 8 Resultados"
   ]
  },
  {
   "cell_type": "markdown",
   "metadata": {},
   "source": [
    "## 8.1 Principais métricas da análise (accuracy e AUC)"
   ]
  },
  {
   "cell_type": "code",
   "execution_count": 46,
   "metadata": {},
   "outputs": [
    {
     "name": "stdout",
     "output_type": "stream",
     "text": [
      "O modelo de Regressão Logística teve 77.29% de precisão e 82.71% de AUC nos dados de treino.\n",
      "O modelo de Regressão Logística teve 78.16% de precisão e 84.39% de AUC nos dados de teste.\n"
     ]
    }
   ],
   "source": [
    "print('O modelo de Regressão Logística teve {:2.2%} de precisão e {:2.2%} de AUC nos dados de treino.'.format(acc_train_final\n",
    "                                                                                                             ,auc_train_final))\n",
    "print('O modelo de Regressão Logística teve {:2.2%} de precisão e {:2.2%} de AUC nos dados de teste.'.format(acc_test_final\n",
    "                                                                                                             ,auc_test_final))"
   ]
  },
  {
   "cell_type": "markdown",
   "metadata": {},
   "source": [
    "## 8.2 Confusion Matrix"
   ]
  },
  {
   "cell_type": "code",
   "execution_count": 47,
   "metadata": {},
   "outputs": [
    {
     "name": "stdout",
     "output_type": "stream",
     "text": [
      "Treino\n",
      "[[2204  111]\n",
      " [ 646  372]]\n",
      "\n",
      "Teste\n",
      "[[1123   44]\n",
      " [ 320  180]]\n"
     ]
    }
   ],
   "source": [
    "print(\"Treino\")\n",
    "print(confusion_matrix(prevs_train_final, Y_train_pipe))\n",
    "print(\"\\nTeste\")\n",
    "print(confusion_matrix(prevs_test_final, Y_test_pipe))"
   ]
  },
  {
   "cell_type": "markdown",
   "metadata": {},
   "source": [
    "## 8.3 Classification Report"
   ]
  },
  {
   "cell_type": "code",
   "execution_count": 48,
   "metadata": {},
   "outputs": [
    {
     "name": "stdout",
     "output_type": "stream",
     "text": [
      "Treino\n",
      "              precision    recall  f1-score   support\n",
      "\n",
      "         0.0       0.95      0.77      0.85      2850\n",
      "         1.0       0.37      0.77      0.50       483\n",
      "\n",
      "    accuracy                           0.77      3333\n",
      "   macro avg       0.66      0.77      0.67      3333\n",
      "weighted avg       0.87      0.77      0.80      3333\n",
      "\n",
      "\n",
      "Teste\n",
      "              precision    recall  f1-score   support\n",
      "\n",
      "           0       0.96      0.78      0.86      1443\n",
      "           1       0.36      0.80      0.50       224\n",
      "\n",
      "    accuracy                           0.78      1667\n",
      "   macro avg       0.66      0.79      0.68      1667\n",
      "weighted avg       0.88      0.78      0.81      1667\n",
      "\n"
     ]
    }
   ],
   "source": [
    "print(\"Treino\")\n",
    "print(classification_report(Y_train_pipe, prevs_train_final))\n",
    "print(\"\\nTeste\")\n",
    "print(classification_report(Y_test_pipe, prevs_test_final))"
   ]
  },
  {
   "cell_type": "markdown",
   "metadata": {},
   "source": [
    "## 8.4 ROC Curve"
   ]
  },
  {
   "cell_type": "code",
   "execution_count": 49,
   "metadata": {},
   "outputs": [
    {
     "data": {
      "image/png": "[encoded data removed]",
      "text/plain": [
       "<Figure size 576x432 with 1 Axes>"
      ]
     },
     "metadata": {
      "needs_background": "light"
     },
     "output_type": "display_data"
    }
   ],
   "source": [
    "fig, ax = plt.subplots(1, 1, figsize=(8, 6))\n",
    "plot_roc_curve(gridCV, X_test_pipe, Y_test_pipe, ax=ax, name = 'Logistic Regression')\n",
    "ax.set_title('Receiver Operating Characteristic (ROC) curve')\n",
    "ax.plot([0, 1], [0, 1], linestyle='--', lw=2, label=None, alpha=.8)\n",
    "ax.grid(linestyle='--')\n",
    "plt.show()"
   ]
  }
 ],
 "metadata": {
  "kernelspec": {
   "display_name": "Python 3",
   "language": "python",
   "name": "python3"
  },
  "language_info": {
   "codemirror_mode": {
    "name": "ipython",
    "version": 3
   },
   "file_extension": ".py",
   "mimetype": "text/x-python",
   "name": "python",
   "nbconvert_exporter": "python",
   "pygments_lexer": "ipython3",
   "version": "3.8.5"
  }
 },
 "nbformat": 4,
 "nbformat_minor": 4
}
